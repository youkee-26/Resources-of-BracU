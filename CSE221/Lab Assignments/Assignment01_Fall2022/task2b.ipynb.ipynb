{
  "nbformat": 4,
  "nbformat_minor": 0,
  "metadata": {
    "colab": {
      "provenance": []
    },
    "kernelspec": {
      "name": "python3",
      "display_name": "Python 3"
    },
    "language_info": {
      "name": "python"
    }
  },
  "cells": [
    {
      "cell_type": "code",
      "execution_count": 2,
      "metadata": {
        "colab": {
          "base_uri": "https://localhost:8080/",
          "height": 295
        },
        "id": "VPSn78PFlH_f",
        "outputId": "b6e70519-9f79-4ed1-c9ab-5e764f16542e"
      },
      "outputs": [
        {
          "output_type": "display_data",
          "data": {
            "text/plain": [
              "<Figure size 432x288 with 1 Axes>"
            ],
            "image/png": "[encoded data removed]"
          },
          "metadata": {
            "needs_background": "light"
          }
        }
      ],
      "source": [
        "#task-02(b)\n",
        "import time\n",
        "import math\n",
        "import matplotlib.pyplot as plt\n",
        "import numpy as np\n",
        "\n",
        "def fibonacci_1(n):\n",
        " if (n <0):\n",
        "    print('Invalid input!')\n",
        " elif (n <= 1):\n",
        "    return n\n",
        " else:\n",
        "    return fibonacci_1(n-1) + fibonacci_1(n-2)\n",
        "def fibonacci_2(n):\n",
        " if (n <0):\n",
        "    print('Invalid input!')\n",
        " if (n <= 1):\n",
        "    return n\n",
        " fib = [0] * (n+1)\n",
        " fib[0] = 0\n",
        " fib[1] = 1\n",
        " for i in range(2,n+1):\n",
        "    fib[i] = fib[i-1] + fib[i-2]\n",
        " return fib[n]\n",
        "#change the value of n for your own experimentation\n",
        "n = 33\n",
        "x = [i for i in range(n)]\n",
        "y = [0 for i in range(n)]\n",
        "z = [0 for i in range(n)]\n",
        "for i in range(n-1):\n",
        "  start = time.time()\n",
        "  fibonacci_1(x[i+1])\n",
        "  y[i+1]= time.time()-start\n",
        "  start = time.time()\n",
        "  fibonacci_2(x[i+1])\n",
        "  z[i+1]= time.time()-start\n",
        "x_interval = math.ceil(n/10)\n",
        "plt.plot(x, y, 'r')\n",
        "plt.plot(x, z, 'b')\n",
        "plt.xticks(np.arange(min(x), max(x)+1, x_interval))\n",
        "plt.xlabel('n-th position')\n",
        "plt.ylabel('time')\n",
        "plt.title('Comparing Time Complexity!')\n",
        "plt.show()"
      ]
    }
  ]
}